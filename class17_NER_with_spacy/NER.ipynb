{
 "cells": [
  {
   "cell_type": "code",
   "execution_count": 12,
   "id": "82197b34",
   "metadata": {},
   "outputs": [],
   "source": [
    "import spacy\n",
    "# nlp = medspacy.load(disable={\"ner\"})\n",
    "nlp = spacy.load(\"en_core_web_sm\",disable={\"ner\"})\n",
    "\n",
    "\n",
    "# create our custome patterns\n",
    "target_rules = [\n",
    "    {'label': \"MUTATION\" , 'pattern':'brca 1'},\n",
    "    {'label': \"MUTATION\" , 'pattern':'brca 2'},\n",
    "    {'label': \"MUTATION\" , 'pattern':'brca1'},\n",
    "    {'label': \"MUTATION\" , 'pattern':'brca2'},\n",
    "    {'label': \"MUTATION\" , 'pattern':'brca 1/2'},\n",
    "    {'label': \"MUTATION\" , 'pattern':'brca 1/brca 2'},\n",
    "    {'label': \"MUTATION\" , 'pattern':'brca 1'},\n",
    "    {'label': \"MUTATION\" , 'pattern':'kras g12c'},\n",
    "    \n",
    "]"
   ]
  },
  {
   "cell_type": "code",
   "execution_count": 13,
   "id": "2adba5b7",
   "metadata": {},
   "outputs": [
    {
     "data": {
      "text/plain": [
       "['tok2vec', 'tagger', 'parser', 'attribute_ruler', 'lemmatizer']"
      ]
     },
     "execution_count": 13,
     "metadata": {},
     "output_type": "execute_result"
    }
   ],
   "source": [
    "nlp.pipe_names"
   ]
  },
  {
   "cell_type": "code",
   "execution_count": 14,
   "id": "7dd971ad",
   "metadata": {},
   "outputs": [],
   "source": [
    "ruler = nlp.add_pipe(\"entity_ruler\")# create new pipline step\n",
    "ruler.add_patterns(target_rules)# add our custome patterh here\n"
   ]
  },
  {
   "cell_type": "code",
   "execution_count": 15,
   "id": "4ef68b7c",
   "metadata": {},
   "outputs": [
    {
     "data": {
      "text/plain": [
       "['tok2vec',\n",
       " 'tagger',\n",
       " 'parser',\n",
       " 'attribute_ruler',\n",
       " 'lemmatizer',\n",
       " 'entity_ruler']"
      ]
     },
     "execution_count": 15,
     "metadata": {},
     "output_type": "execute_result"
    }
   ],
   "source": [
    "nlp.pipe_names"
   ]
  },
  {
   "cell_type": "code",
   "execution_count": 16,
   "id": "e28f61aa",
   "metadata": {},
   "outputs": [
    {
     "data": {
      "text/plain": [
       "(kras g12c, brca1, brca1)"
      ]
     },
     "execution_count": 16,
     "metadata": {},
     "output_type": "execute_result"
    }
   ],
   "source": [
    "doc = nlp(\"Discharge kras g12c Date: 11/15/2008. no chd3 had temp brca1 reading of 102.6 degrees. brca1\")\n",
    "doc.ents"
   ]
  },
  {
   "cell_type": "code",
   "execution_count": 21,
   "id": "0fc16c67",
   "metadata": {},
   "outputs": [
    {
     "name": "stdout",
     "output_type": "stream",
     "text": [
      "kras g12c MUTATION\n",
      "brca1 MUTATION\n",
      "brca1 MUTATION\n"
     ]
    }
   ],
   "source": [
    "for i in doc.ents:\n",
    "#     print(type(i),i, i.text,sep=\"|\")\n",
    "    print(i.text, i.label_)"
   ]
  },
  {
   "cell_type": "code",
   "execution_count": 35,
   "id": "bc794152",
   "metadata": {},
   "outputs": [
    {
     "data": {
      "text/plain": [
       "'brca1\\nkras g12c'"
      ]
     },
     "execution_count": 35,
     "metadata": {},
     "output_type": "execute_result"
    }
   ],
   "source": [
    "def extract_mutations(text):\n",
    "    text = str(text)\n",
    "    doc = nlp(text)\n",
    "    mutations = doc.ents\n",
    "    mutations = list(set([i.text for i in mutations]))\n",
    "    return \"\\n\".join(mutations)\n",
    "\n",
    "x = \"Discharge kras g12c Date: 11/15/2008. no chd3 had temp brca1 reading of 102.6 degrees. brca1\"\n",
    "\n",
    "extract_mutations(x)"
   ]
  },
  {
   "cell_type": "code",
   "execution_count": 42,
   "id": "10c1ea60",
   "metadata": {
    "scrolled": true
   },
   "outputs": [
    {
     "data": {
      "text/html": [
       "<span class=\"tex2jax_ignore\"><!DOCTYPE html>\n",
       "<html lang=\"en\">\n",
       "    <head>\n",
       "        <title>displaCy</title>\n",
       "    </head>\n",
       "\n",
       "    <body style=\"font-size: 16px; font-family: -apple-system, BlinkMacSystemFont, 'Segoe UI', Helvetica, Arial, sans-serif, 'Apple Color Emoji', 'Segoe UI Emoji', 'Segoe UI Symbol'; padding: 4rem 2rem; direction: ltr\">\n",
       "<figure style=\"margin-bottom: 6rem\">\n",
       "<div class=\"entities\" style=\"line-height: 2.5; direction: ltr\">Discharge \n",
       "<mark class=\"entity\" style=\"background: #ddd; padding: 0.45em 0.6em; margin: 0 0.25em; line-height: 1; border-radius: 0.35em;\">\n",
       "    kras g12c\n",
       "    <span style=\"font-size: 0.8em; font-weight: bold; line-height: 1; border-radius: 0.35em; vertical-align: middle; margin-left: 0.5rem\">MUTATION</span>\n",
       "</mark>\n",
       " Date: 11/15/2008. no chd3 had temp \n",
       "<mark class=\"entity\" style=\"background: #ddd; padding: 0.45em 0.6em; margin: 0 0.25em; line-height: 1; border-radius: 0.35em;\">\n",
       "    brca1\n",
       "    <span style=\"font-size: 0.8em; font-weight: bold; line-height: 1; border-radius: 0.35em; vertical-align: middle; margin-left: 0.5rem\">MUTATION</span>\n",
       "</mark>\n",
       " reading of 102.6 degrees. \n",
       "<mark class=\"entity\" style=\"background: #ddd; padding: 0.45em 0.6em; margin: 0 0.25em; line-height: 1; border-radius: 0.35em;\">\n",
       "    brca1\n",
       "    <span style=\"font-size: 0.8em; font-weight: bold; line-height: 1; border-radius: 0.35em; vertical-align: middle; margin-left: 0.5rem\">MUTATION</span>\n",
       "</mark>\n",
       "</div>\n",
       "</figure>\n",
       "</body>\n",
       "</html></span>"
      ],
      "text/plain": [
       "<IPython.core.display.HTML object>"
      ]
     },
     "metadata": {},
     "output_type": "display_data"
    },
    {
     "name": "stdout",
     "output_type": "stream",
     "text": [
      "\n",
      "Using the 'ent' visualizer\n",
      "Serving on http://0.0.0.0:5000 ...\n",
      "\n"
     ]
    },
    {
     "name": "stderr",
     "output_type": "stream",
     "text": [
      "127.0.0.1 - - [05/Mar/2023 15:57:37] \"GET / HTTP/1.1\" 200 1420\n",
      "127.0.0.1 - - [05/Mar/2023 15:57:37] \"GET /favicon.ico HTTP/1.1\" 200 1420\n"
     ]
    },
    {
     "name": "stdout",
     "output_type": "stream",
     "text": [
      "Shutting down server on port 5000.\n"
     ]
    }
   ],
   "source": [
    "from spacy import displacy\n",
    "\n",
    "displacy.serve(doc, style='ent')"
   ]
  },
  {
   "cell_type": "code",
   "execution_count": 36,
   "id": "560b32b7",
   "metadata": {},
   "outputs": [
    {
     "data": {
      "text/html": [
       "<div>\n",
       "<style scoped>\n",
       "    .dataframe tbody tr th:only-of-type {\n",
       "        vertical-align: middle;\n",
       "    }\n",
       "\n",
       "    .dataframe tbody tr th {\n",
       "        vertical-align: top;\n",
       "    }\n",
       "\n",
       "    .dataframe thead th {\n",
       "        text-align: right;\n",
       "    }\n",
       "</style>\n",
       "<table border=\"1\" class=\"dataframe\">\n",
       "  <thead>\n",
       "    <tr style=\"text-align: right;\">\n",
       "      <th></th>\n",
       "      <th>NCTId</th>\n",
       "      <th>Inclusion Criteria</th>\n",
       "    </tr>\n",
       "  </thead>\n",
       "  <tbody>\n",
       "    <tr>\n",
       "      <th>0</th>\n",
       "      <td>NCT00001350</td>\n",
       "      <td>\\n\\n\\n\\n\\n\\n\\ninclusion criteria:\\n\\n - iii.i....</td>\n",
       "    </tr>\n",
       "    <tr>\n",
       "      <th>1</th>\n",
       "      <td>NCT00001378</td>\n",
       "      <td>\\ninclusion criteria:\\n\\n population character...</td>\n",
       "    </tr>\n",
       "    <tr>\n",
       "      <th>2</th>\n",
       "      <td>NCT00001806</td>\n",
       "      <td>\\n\\n\\ninclusion criteria:\\n\\n - \\n\\ninclusion ...</td>\n",
       "    </tr>\n",
       "    <tr>\n",
       "      <th>3</th>\n",
       "      <td>NCT00003736</td>\n",
       "      <td>\\ninclusion criteria:\\n\\n \\n\\n\\ndisease charac...</td>\n",
       "    </tr>\n",
       "    <tr>\n",
       "      <th>4</th>\n",
       "      <td>NCT00004565</td>\n",
       "      <td>\\n\\n\\ninclusion criteria:\\n\\n - \\n\\ninclusion ...</td>\n",
       "    </tr>\n",
       "    <tr>\n",
       "      <th>...</th>\n",
       "      <td>...</td>\n",
       "      <td>...</td>\n",
       "    </tr>\n",
       "    <tr>\n",
       "      <th>1234</th>\n",
       "      <td>NCT05158621</td>\n",
       "      <td>\\n\\n\\ninclusion criteria:\\n\\n advanced/metasta...</td>\n",
       "    </tr>\n",
       "    <tr>\n",
       "      <th>1235</th>\n",
       "      <td>NCT05162443</td>\n",
       "      <td>\\n\\n\\ninclusion criteria:\\n\\n \\n\\ninclusion cr...</td>\n",
       "    </tr>\n",
       "    <tr>\n",
       "      <th>1236</th>\n",
       "      <td>NCT05162755</td>\n",
       "      <td>\\n\\n\\ninclusion criteria:\\n\\n dose escalation ...</td>\n",
       "    </tr>\n",
       "    <tr>\n",
       "      <th>1237</th>\n",
       "      <td>NCT05163028</td>\n",
       "      <td>\\n\\n\\ninclusion criteria:\\n\\n key \\n\\ninclusio...</td>\n",
       "    </tr>\n",
       "    <tr>\n",
       "      <th>1238</th>\n",
       "      <td>NCT05167175</td>\n",
       "      <td>\\n\\n\\ninclusion criteria:\\n\\n \\n\\ninclusion cr...</td>\n",
       "    </tr>\n",
       "  </tbody>\n",
       "</table>\n",
       "<p>1239 rows × 2 columns</p>\n",
       "</div>"
      ],
      "text/plain": [
       "            NCTId                                 Inclusion Criteria\n",
       "0     NCT00001350  \\n\\n\\n\\n\\n\\n\\ninclusion criteria:\\n\\n - iii.i....\n",
       "1     NCT00001378  \\ninclusion criteria:\\n\\n population character...\n",
       "2     NCT00001806  \\n\\n\\ninclusion criteria:\\n\\n - \\n\\ninclusion ...\n",
       "3     NCT00003736  \\ninclusion criteria:\\n\\n \\n\\n\\ndisease charac...\n",
       "4     NCT00004565  \\n\\n\\ninclusion criteria:\\n\\n - \\n\\ninclusion ...\n",
       "...           ...                                                ...\n",
       "1234  NCT05158621  \\n\\n\\ninclusion criteria:\\n\\n advanced/metasta...\n",
       "1235  NCT05162443  \\n\\n\\ninclusion criteria:\\n\\n \\n\\ninclusion cr...\n",
       "1236  NCT05162755  \\n\\n\\ninclusion criteria:\\n\\n dose escalation ...\n",
       "1237  NCT05163028  \\n\\n\\ninclusion criteria:\\n\\n key \\n\\ninclusio...\n",
       "1238  NCT05167175  \\n\\n\\ninclusion criteria:\\n\\n \\n\\ninclusion cr...\n",
       "\n",
       "[1239 rows x 2 columns]"
      ]
     },
     "execution_count": 36,
     "metadata": {},
     "output_type": "execute_result"
    }
   ],
   "source": [
    "import pandas as pd\n",
    "import numpy as np\n",
    "\n",
    "df = pd.read_feather(\"a.feather\")\n",
    "df"
   ]
  },
  {
   "cell_type": "code",
   "execution_count": 37,
   "id": "c4186b69",
   "metadata": {},
   "outputs": [
    {
     "name": "stdout",
     "output_type": "stream",
     "text": [
      "CPU times: user 38.2 s, sys: 83 ms, total: 38.2 s\n",
      "Wall time: 38.4 s\n"
     ]
    }
   ],
   "source": [
    "%%time\n",
    "df['muation'] = df['Inclusion Criteria'].apply(extract_mutations)"
   ]
  },
  {
   "cell_type": "code",
   "execution_count": 38,
   "id": "94b4e917",
   "metadata": {},
   "outputs": [
    {
     "data": {
      "text/html": [
       "<div>\n",
       "<style scoped>\n",
       "    .dataframe tbody tr th:only-of-type {\n",
       "        vertical-align: middle;\n",
       "    }\n",
       "\n",
       "    .dataframe tbody tr th {\n",
       "        vertical-align: top;\n",
       "    }\n",
       "\n",
       "    .dataframe thead th {\n",
       "        text-align: right;\n",
       "    }\n",
       "</style>\n",
       "<table border=\"1\" class=\"dataframe\">\n",
       "  <thead>\n",
       "    <tr style=\"text-align: right;\">\n",
       "      <th></th>\n",
       "      <th>NCTId</th>\n",
       "      <th>Inclusion Criteria</th>\n",
       "      <th>muation</th>\n",
       "    </tr>\n",
       "  </thead>\n",
       "  <tbody>\n",
       "    <tr>\n",
       "      <th>0</th>\n",
       "      <td>NCT00001350</td>\n",
       "      <td>\\n\\n\\n\\n\\n\\n\\ninclusion criteria:\\n\\n - iii.i....</td>\n",
       "      <td></td>\n",
       "    </tr>\n",
       "    <tr>\n",
       "      <th>1</th>\n",
       "      <td>NCT00001378</td>\n",
       "      <td>\\ninclusion criteria:\\n\\n population character...</td>\n",
       "      <td>brca1\\nbrca2</td>\n",
       "    </tr>\n",
       "    <tr>\n",
       "      <th>2</th>\n",
       "      <td>NCT00001806</td>\n",
       "      <td>\\n\\n\\ninclusion criteria:\\n\\n - \\n\\ninclusion ...</td>\n",
       "      <td></td>\n",
       "    </tr>\n",
       "    <tr>\n",
       "      <th>3</th>\n",
       "      <td>NCT00003736</td>\n",
       "      <td>\\ninclusion criteria:\\n\\n \\n\\n\\ndisease charac...</td>\n",
       "      <td>brca1\\nbrca2</td>\n",
       "    </tr>\n",
       "    <tr>\n",
       "      <th>4</th>\n",
       "      <td>NCT00004565</td>\n",
       "      <td>\\n\\n\\ninclusion criteria:\\n\\n - \\n\\ninclusion ...</td>\n",
       "      <td>brca1\\nbrca2</td>\n",
       "    </tr>\n",
       "    <tr>\n",
       "      <th>...</th>\n",
       "      <td>...</td>\n",
       "      <td>...</td>\n",
       "      <td>...</td>\n",
       "    </tr>\n",
       "    <tr>\n",
       "      <th>1234</th>\n",
       "      <td>NCT05158621</td>\n",
       "      <td>\\n\\n\\ninclusion criteria:\\n\\n advanced/metasta...</td>\n",
       "      <td></td>\n",
       "    </tr>\n",
       "    <tr>\n",
       "      <th>1235</th>\n",
       "      <td>NCT05162443</td>\n",
       "      <td>\\n\\n\\ninclusion criteria:\\n\\n \\n\\ninclusion cr...</td>\n",
       "      <td></td>\n",
       "    </tr>\n",
       "    <tr>\n",
       "      <th>1236</th>\n",
       "      <td>NCT05162755</td>\n",
       "      <td>\\n\\n\\ninclusion criteria:\\n\\n dose escalation ...</td>\n",
       "      <td></td>\n",
       "    </tr>\n",
       "    <tr>\n",
       "      <th>1237</th>\n",
       "      <td>NCT05163028</td>\n",
       "      <td>\\n\\n\\ninclusion criteria:\\n\\n key \\n\\ninclusio...</td>\n",
       "      <td></td>\n",
       "    </tr>\n",
       "    <tr>\n",
       "      <th>1238</th>\n",
       "      <td>NCT05167175</td>\n",
       "      <td>\\n\\n\\ninclusion criteria:\\n\\n \\n\\ninclusion cr...</td>\n",
       "      <td>brca1\\nbrca2</td>\n",
       "    </tr>\n",
       "  </tbody>\n",
       "</table>\n",
       "<p>1239 rows × 3 columns</p>\n",
       "</div>"
      ],
      "text/plain": [
       "            NCTId                                 Inclusion Criteria  \\\n",
       "0     NCT00001350  \\n\\n\\n\\n\\n\\n\\ninclusion criteria:\\n\\n - iii.i....   \n",
       "1     NCT00001378  \\ninclusion criteria:\\n\\n population character...   \n",
       "2     NCT00001806  \\n\\n\\ninclusion criteria:\\n\\n - \\n\\ninclusion ...   \n",
       "3     NCT00003736  \\ninclusion criteria:\\n\\n \\n\\n\\ndisease charac...   \n",
       "4     NCT00004565  \\n\\n\\ninclusion criteria:\\n\\n - \\n\\ninclusion ...   \n",
       "...           ...                                                ...   \n",
       "1234  NCT05158621  \\n\\n\\ninclusion criteria:\\n\\n advanced/metasta...   \n",
       "1235  NCT05162443  \\n\\n\\ninclusion criteria:\\n\\n \\n\\ninclusion cr...   \n",
       "1236  NCT05162755  \\n\\n\\ninclusion criteria:\\n\\n dose escalation ...   \n",
       "1237  NCT05163028  \\n\\n\\ninclusion criteria:\\n\\n key \\n\\ninclusio...   \n",
       "1238  NCT05167175  \\n\\n\\ninclusion criteria:\\n\\n \\n\\ninclusion cr...   \n",
       "\n",
       "           muation  \n",
       "0                   \n",
       "1     brca1\\nbrca2  \n",
       "2                   \n",
       "3     brca1\\nbrca2  \n",
       "4     brca1\\nbrca2  \n",
       "...            ...  \n",
       "1234                \n",
       "1235                \n",
       "1236                \n",
       "1237                \n",
       "1238  brca1\\nbrca2  \n",
       "\n",
       "[1239 rows x 3 columns]"
      ]
     },
     "execution_count": 38,
     "metadata": {},
     "output_type": "execute_result"
    }
   ],
   "source": [
    "df"
   ]
  },
  {
   "cell_type": "code",
   "execution_count": 40,
   "id": "ad64374b",
   "metadata": {},
   "outputs": [
    {
     "data": {
      "text/plain": [
       "                                          837\n",
       "brca1\\nbrca2                              269\n",
       "brca1                                      35\n",
       "brca 1                                     21\n",
       "brca 1/2                                   20\n",
       "kras g12c                                  19\n",
       "brca2                                      14\n",
       "brca 1\\nbrca 2                              8\n",
       "brca1\\nbrca 2                               4\n",
       "brca 1\\nbrca 1/2                            2\n",
       "brca1\\nbrca 2\\nbrca2                        2\n",
       "brca1\\nbrca 1\\nbrca2                        2\n",
       "brca1\\nbrca 1/2\\nbrca2                      2\n",
       "brca1\\nbrca 1                               1\n",
       "brca1\\nbrca 1\\nbrca 2\\nbrca2                1\n",
       "brca1\\nbrca 1\\nbrca 2\\nbrca 1/2\\nbrca2      1\n",
       "brca1\\nbrca 1/2                             1\n",
       "Name: muation, dtype: int64"
      ]
     },
     "execution_count": 40,
     "metadata": {},
     "output_type": "execute_result"
    }
   ],
   "source": [
    "df.muation.value_counts(dropna=False)"
   ]
  },
  {
   "cell_type": "code",
   "execution_count": 49,
   "id": "e9d931f9",
   "metadata": {},
   "outputs": [
    {
     "name": "stdout",
     "output_type": "stream",
     "text": [
      "15578876784678163569 HelloWorld 0 3 Hello, world\n"
     ]
    }
   ],
   "source": [
    "import spacy\n",
    "from spacy.matcher import Matcher\n",
    "\n",
    "nlp = spacy.load(\"en_core_web_sm\")\n",
    "matcher = Matcher(nlp.vocab)\n",
    "# Add match ID \"HelloWorld\" with no callback and one pattern\n",
    "pattern = [{\"LOWER\": \"hello\"}, {\"IS_PUNCT\": True}, {\"LOWER\": \"world\"}]\n",
    "matcher.add(\"HelloWorld\", [pattern])\n",
    "\n",
    "doc = nlp(\"Hello, world! Hello world!\")\n",
    "matches = matcher(doc)\n",
    "for match_id, start, end in matches:\n",
    "    string_id = nlp.vocab.strings[match_id]  # Get string representation\n",
    "#     span = doc[start:end]  # The matched span\n",
    "#     print(span, start, end)\n",
    "    print(match_id, string_idlo, world, start, end, span.text)\n"
   ]
  },
  {
   "cell_type": "code",
   "execution_count": null,
   "id": "c160b2f7",
   "metadata": {},
   "outputs": [],
   "source": []
  }
 ],
 "metadata": {
  "kernelspec": {
   "display_name": "Python 3 (ipykernel)",
   "language": "python",
   "name": "python3"
  },
  "language_info": {
   "codemirror_mode": {
    "name": "ipython",
    "version": 3
   },
   "file_extension": ".py",
   "mimetype": "text/x-python",
   "name": "python",
   "nbconvert_exporter": "python",
   "pygments_lexer": "ipython3",
   "version": "3.9.15"
  }
 },
 "nbformat": 4,
 "nbformat_minor": 5
}
